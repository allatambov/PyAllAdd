{
 "cells": [
  {
   "cell_type": "markdown",
   "metadata": {},
   "source": [
    "# Программирование на Python\n",
    "\n",
    "*Алла Тамбовцева, НИУ ВШЭ*\n",
    "\n",
    "## Управление браузером с Selenium: поиск элементов на странице\n",
    "\n",
    "### Установка и подготовка к работе\n",
    "\n",
    "Библиотека Selenium – библиотека для управления браузером с помощью Python. Она позволяет запускать браузер и имитировать действия пользователя в нём.\n",
    "\n",
    "Зачем это может понадобиться? Во-первых, такое «встраивание» в браузер в большинстве случаев позволяет решить проблему с возникающими капчами и иными ограничениями, так как настройки сайта не распознают, что запрос к исходному коду страницы производится автоматически. Во-вторых, необходимость имитации действий в браузере неизбежно возникает при обработке динамических веб-страниц, где некоторые элементы (окна, графики, таблицы) появляются только при определенных действиях пользователя, например, при скроллинге или наведении мышкой. В-третьих, библиотека может быть полезна в случаях, если доступ к API сайта или базы данных получить довольно сложно, но при работе в браузере информация доступна (в таком случае можем залогиниться через Python как пользователь и потихоньку выгружать данные).\n",
    "\n",
    "Установим библиотеку:"
   ]
  },
  {
   "cell_type": "code",
   "execution_count": null,
   "metadata": {},
   "outputs": [],
   "source": [
    "!pip install selenium"
   ]
  },
  {
   "cell_type": "markdown",
   "metadata": {},
   "source": [
    "Если библиотека уже установлена, устанавливать повторно её не требуется, достаточно просто импортировать. Если библиотека установлена и вы точно знаете, что версия старая, можно запросить принудительную установку более новой версии с помощью опции `--upgrade`. "
   ]
  },
  {
   "cell_type": "code",
   "execution_count": null,
   "metadata": {},
   "outputs": [],
   "source": [
    "!pip install selenium --upgrade"
   ]
  },
  {
   "cell_type": "markdown",
   "metadata": {},
   "source": [
    "Почему такую установку можно считать «принудительной»? Команда `pip install` действует так: проверяет наличие библиотеки на компьютере или в конкретной рабочей среде, и если хотя бы какая-то версия библиотеки присутствует, установка не производится. Поэтому, добавляя опцию `--upgrade` мы в любом случае инициализируем установку. \n",
    "\n",
    "Сначала импортируем библиотеку полностью, проверим, что всё идёт по плану:"
   ]
  },
  {
   "cell_type": "code",
   "execution_count": 1,
   "metadata": {},
   "outputs": [],
   "source": [
    "import selenium"
   ]
  },
  {
   "cell_type": "markdown",
   "metadata": {},
   "source": [
    "Проверим версию бибилиотеки, раз речь зашла о версиях:"
   ]
  },
  {
   "cell_type": "code",
   "execution_count": 2,
   "metadata": {},
   "outputs": [
    {
     "data": {
      "text/plain": [
       "'4.11.2'"
      ]
     },
     "execution_count": 2,
     "metadata": {},
     "output_type": "execute_result"
    }
   ],
   "source": [
    "selenium.__version__"
   ]
  },
  {
   "cell_type": "markdown",
   "metadata": {},
   "source": [
    "Теперь импортируем из библиотеки Selenium необходимые компоненты:\n",
    "\n",
    "* модуль `webdriver`, нужен непосредственно для запуска браузера через Python;\n",
    "* коллекция атрибутов для поиска элементов на странице `By`;\n",
    "* коллекция атрибутов для имитации нажатия клавиш `Keys`."
   ]
  },
  {
   "cell_type": "code",
   "execution_count": 3,
   "metadata": {},
   "outputs": [],
   "source": [
    "from selenium import webdriver as wd\n",
    "from selenium.webdriver.common.by import By\n",
    "from selenium.webdriver.common.keys import Keys"
   ]
  },
  {
   "cell_type": "markdown",
   "metadata": {},
   "source": [
    "Запустим браузер Chrome средствами Selenium (в модуле есть функции для разных браузеров, но лучше всего работать с Chrome или Firefox):"
   ]
  },
  {
   "cell_type": "code",
   "execution_count": 4,
   "metadata": {},
   "outputs": [],
   "source": [
    "br = wd.Chrome()"
   ]
  },
  {
   "cell_type": "markdown",
   "metadata": {},
   "source": [
    "Если вы исполняете код выше первый раз, это может занять некоторое время, так как функция `Chrome()` сначала скачает и установит подходящую версию драйвера для Chrome, который будет обеспечивать связь между Selenium и той версией браузера Chrome, которая установлена у вас на компьютере. В последующие разы всё должно происходить быстрее.\n",
    "\n",
    "В результате запуска строки выше должно открыться новое окно браузера Chrome. Оно пустое и, скорее всего, с всплывающим предупреждением о том, что браузером управляет автоматизированное тестовое ПО. Это нормально, мы «имитировали» открытие браузера от лица пользователя, теперь, если мы будем в этом окне переходить по ссылкам на сайты, сайты не будут воспринимать запросы как автоматические (в отличие от запросов через модуль `requests`, из-за автоматических или слишком быстрых запросов, собственно, могут возникать те же капчи).\n",
    "\n",
    "Открывшееся окно браузера в течение работы закрывать нельзя. Python будет там выполнять действия, а мы будем их отслеживать со стороны. Приступим к работе.\n",
    "\n",
    "Открываем новое окно на всю ширину экрана на случай, если какие-то элементы в маленьком окне будут мешать или накладываться друг на друга (так бывает с рекламой, всплывающими окнами и подобным):"
   ]
  },
  {
   "cell_type": "code",
   "execution_count": 5,
   "metadata": {},
   "outputs": [],
   "source": [
    "br.maximize_window()"
   ]
  },
  {
   "cell_type": "markdown",
   "metadata": {},
   "source": [
    "### Поиск элементов на странице"
   ]
  },
  {
   "cell_type": "markdown",
   "metadata": {},
   "source": [
    "Начнём с простого примера – сайта книжного магазина «Библио-Глобус». Вообще этот сайт можно парсить и без Selenium, он пока не блокирует автоматические запросы, но зато другие сайты магазинов или онлайн-кинотеатров с похожей структурой умеют это делать.\n",
    "\n",
    "Отправим запрос – перейдём в открытом окне по ссылке на [главную страницу](https://www.biblio-globus.ru/) сайта:"
   ]
  },
  {
   "cell_type": "code",
   "execution_count": 6,
   "metadata": {},
   "outputs": [],
   "source": [
    "br.get(\"https://www.biblio-globus.ru/\")"
   ]
  },
  {
   "cell_type": "markdown",
   "metadata": {},
   "source": [
    "В окне должна открыться главная страница сайта. Найдём на странице **поле для поиска** интересующего товара. Для этого нам понадобится метод `.find_element()`, он применяется к объекту WebDriver (у нас это `br`). Вообще в Selenium есть два метода для поиска, по аналогии с методами `.find()` и `.find_all()` в `BeautifulSoup`:\n",
    "\n",
    "* `.find_element()` – поиск одного элемента, возвращает один результат, если подходящих элементов несколько, возвращается первый;\n",
    "* `.find_elements()` – поиск нескольких элементов, возвращает список результатов.\n",
    "\n",
    "Откроем страницу в новой вкладке обычного браузера (окно, открытое через Python пока не трогаем) и зайдём в инструменты разработчика. Выберем поле для поиска и найдём соответствующий фрагмент кода HTML:\n",
    "\n",
    "![](https://raw.githubusercontent.com/allatambov/PyAllAdd/main/selenium-one.jpeg)"
   ]
  },
  {
   "cell_type": "markdown",
   "metadata": {},
   "source": [
    "Можно найти этот элемент по-разному: по тэгу `<input>`, по атрибуту `name`, по названию класса `form-control ui-autocomplete-input` или по id. Все эти методы можно найти в коллекции `By`, которую мы импортировали в начале:\n",
    "\n",
    "* `By.TAG_NAME`: поиск по тэгу;\n",
    "* `By.NAME`: поиск по атрибуту `name`;\n",
    "* `By.CLASS_NAME`: поиск по названию класса.\n",
    "\n",
    "Но из всех способов лучше выбирать самый надёжный, такой, который приведёт именно к нужному элементу, а не к элементу с таким же классом или тэгом (поле для поиска теоретически на сайте может быть не одно, да и имя `query` тоже не редкость). Поэтому остановимся на id:"
   ]
  },
  {
   "cell_type": "code",
   "execution_count": 7,
   "metadata": {},
   "outputs": [],
   "source": [
    "search = br.find_element(By.ID, \"SearchBooks\")"
   ]
  },
  {
   "cell_type": "markdown",
   "metadata": {},
   "source": [
    "Сейчас в `search` у нас хранится объект Selenium, к которому можно применять различные методы. Так как мы нашли поле для поиска, которое можно заполнять, мы воспользуемся методом `.send_keys()`, который введёт в это поле текст. Запросим книги по Python:"
   ]
  },
  {
   "cell_type": "code",
   "execution_count": 8,
   "metadata": {},
   "outputs": [],
   "source": [
    "search.send_keys(\"Python\")"
   ]
  },
  {
   "cell_type": "markdown",
   "metadata": {},
   "source": [
    "В открытом окне должен появиться текст и выпадающее меню с названиями книг. Магия!\n",
    "\n",
    "**Примечание.** Если мы нашли объект некорректно, например, не само поле (в HTML обычно с тэгом `<input>`), а рамочку вокруг него или раздел, внутри которого это поле находится, то есть те элементы, которые не подразумевают интерактива в виде ввода значений, в ответ на `.send_keys()` мы получим ошибку `element not interactable`.\n",
    "\n",
    "Для активации поиска нужно найти соответствующую кнопку рядом с полем и кликнуть на неё. Но можно поступить проще (не всегда подобные кнопки удобно искать), ведь мы часто вместо кликания просто нажимаем на *Enter*!"
   ]
  },
  {
   "cell_type": "code",
   "execution_count": 9,
   "metadata": {},
   "outputs": [],
   "source": [
    "search.send_keys(Keys.ENTER)"
   ]
  },
  {
   "cell_type": "markdown",
   "metadata": {},
   "source": [
    "Отлично! Теперь нужно поработать с результатами поиска. Предположим, что мы пишем код – основу для какой-нибудь программы или приложения, которая позволяет пользователю по ключевым словам выполнить поиск и отсортировать результаты по какому-нибудь критерию, доступному на сайте. Например, по цене, от меньшей к большей. Найдём выпадающее меню с нужными опциями на странице:\n",
    "\n",
    "![](https://raw.githubusercontent.com/allatambov/PyAllAdd/main/selenium-two.jpeg)"
   ]
  },
  {
   "cell_type": "markdown",
   "metadata": {},
   "source": [
    "Так как выпадающее меню здесь одно, его можно найти просто по тэгу `<select>`:"
   ]
  },
  {
   "cell_type": "code",
   "execution_count": 10,
   "metadata": {},
   "outputs": [],
   "source": [
    "select = br.find_element(By.TAG_NAME, \"select\")"
   ]
  },
  {
   "cell_type": "markdown",
   "metadata": {},
   "source": [
    "По аналогии с предыдущим примером заполнения ввода поля, выбор опций в обычных выпадающих меню с тэгом `<select>` можно осуществить с помощью того же метода `.send_keys()`:"
   ]
  },
  {
   "cell_type": "code",
   "execution_count": 11,
   "metadata": {},
   "outputs": [],
   "source": [
    "# внимание на пробелы – опция должна быть как в исходном коде страницы\n",
    "\n",
    "select.send_keys(\" По цене (от меньшей к большей) \")                                   "
   ]
  },
  {
   "cell_type": "markdown",
   "metadata": {},
   "source": [
    "Отлично! Давайте ещё найдём поле для галочки «В наличии» и кликнем на него!\n",
    "\n",
    "![](https://raw.githubusercontent.com/allatambov/PyAllAdd/main/selenium-three.jpeg)"
   ]
  },
  {
   "cell_type": "markdown",
   "metadata": {},
   "source": [
    "Галочку удобнее найти по названию класса:"
   ]
  },
  {
   "cell_type": "code",
   "execution_count": 12,
   "metadata": {},
   "outputs": [],
   "source": [
    "# кликаем – метод click()\n",
    "\n",
    "tick = br.find_element(By.CLASS_NAME, \"custom-control-label\")\n",
    "tick.click()"
   ]
  },
  {
   "cell_type": "markdown",
   "metadata": {},
   "source": [
    "Технически, теперь нам достаточно извлечь исходный код страницы из открытого браузера и стандартным образом выгрузить необходимую информацию с помощью `BeautifulSoup`."
   ]
  },
  {
   "cell_type": "code",
   "execution_count": 13,
   "metadata": {},
   "outputs": [],
   "source": [
    "# .page_source – обычная строка с исходным кодом\n",
    "\n",
    "html = br.page_source"
   ]
  },
  {
   "cell_type": "markdown",
   "metadata": {},
   "source": [
    "Импортируем функцию `BeautifulSoup`:"
   ]
  },
  {
   "cell_type": "code",
   "execution_count": 14,
   "metadata": {},
   "outputs": [],
   "source": [
    "from bs4 import BeautifulSoup"
   ]
  },
  {
   "cell_type": "markdown",
   "metadata": {},
   "source": [
    "Преобразуем строку `html` с исходным кодом в объект `BeautifulSoup`:"
   ]
  },
  {
   "cell_type": "code",
   "execution_count": 15,
   "metadata": {},
   "outputs": [],
   "source": [
    "soup = BeautifulSoup(html)"
   ]
  },
  {
   "cell_type": "markdown",
   "metadata": {},
   "source": [
    "Попробуем найти карточки с товарами!\n",
    "\n",
    "![](https://raw.githubusercontent.com/allatambov/PyAllAdd/main/selenium-four.jpeg)"
   ]
  },
  {
   "cell_type": "markdown",
   "metadata": {},
   "source": [
    "Найдём все фрагменты с тэгом `<div>` и атрибутом `class` равным `product`:"
   ]
  },
  {
   "cell_type": "code",
   "execution_count": 16,
   "metadata": {},
   "outputs": [
    {
     "name": "stdout",
     "output_type": "stream",
     "text": [
      "12\n"
     ]
    }
   ],
   "source": [
    "divs = soup.find_all(\"div\", {\"class\" : \"product\"})\n",
    "\n",
    "# 12 товаров – у нас пока только первая страница\n",
    "\n",
    "print(len(divs))"
   ]
  },
  {
   "cell_type": "markdown",
   "metadata": {},
   "source": [
    "Посмотрим на пример одной карточки – одна книга, четвёртый товар в списке:"
   ]
  },
  {
   "cell_type": "code",
   "execution_count": 17,
   "metadata": {},
   "outputs": [
    {
     "name": "stdout",
     "output_type": "stream",
     "text": [
      "<div class=\"product\">\n",
      "<a class=\"img_link\" href=\"/product/10776656\"><img alt=\"\" class=\"img-fluid\" src=\"https://static1.bgshop.ru/imagehandler.ashx?fileName=10776656.jpg&amp;width=200\"/></a>\n",
      "<div class=\"text\">\n",
      "<div class=\"product-sm-used-placeholder\"></div>\n",
      "<div class=\"author\">Кольцов Д. М.</div>\n",
      "<h3><a href=\"/product/10776656\" id=\"p_title_10776656\">Справочник PYTHON.  Кратко, быстро, под рукой</a></h3>\n",
      "<div class=\"prices_item\">\n",
      "<div class=\"price_item_wrapper\"><span class=\"price_item_title\">Цена на сайте:</span> <div class=\"price_item_block\"><s>569 ₽</s> <span class=\"price_item_new price_item_with_discount\">512 ₽</span></div></div>\n",
      "</div>\n",
      "<p class=\"status im_status_title\">\n",
      "<span style=\"color: #3ba155;\"> в наличии</span>\n",
      "<span class=\"product-qty\">3 шт.</span>\n",
      "</p>\n",
      "<div class=\"buttons row\">\n",
      "<div class=\"col-9 pl-0\">\n",
      "<span class=\"btn btn-block btn-primary\" id=\"add_10776656\" onclick=\"AddToBasket(10776656)\">В корзину</span>\n",
      "<a class=\"btn btn-primary add_but\" href=\"/Basket/Detail\" id=\"added_10776656\">Оформить <i aria-hidden=\"true\" class=\"fa fa-chevron-right\"></i></a>\n",
      "</div>\n",
      "<div class=\"col-3 p-0\">\n",
      "<span class=\"btn btn-light btn-block\" id=\"add_wishlist_10776656\" onclick=\"AddToWishlist(10776656)\"><i aria-hidden=\"true\" class=\"far fa-heart\" style=\"color: #aeaeae;\"></i></span>\n",
      "<span class=\"btn btn-light added_wishlist btn-block\" id=\"added_wishlist_10776656\" onclick=\"DeleteFromWishlist(10776656,false)\"><i aria-hidden=\"true\" class=\"fa-solid fa-heart\" style=\"color: #d70834;\"></i></span>\n",
      "</div>\n",
      "</div>\n",
      "</div>\n",
      "<!-- /.text-->\n",
      "</div>\n"
     ]
    }
   ],
   "source": [
    "d = divs[3]\n",
    "print(d)"
   ]
  },
  {
   "cell_type": "markdown",
   "metadata": {},
   "source": [
    "Как найти в этом фрагменте наименование товара? Найти элемент с тэгом `<h3>` и извлечь из него текст (текст внутри `<h3>...</h3>`):"
   ]
  },
  {
   "cell_type": "code",
   "execution_count": 18,
   "metadata": {},
   "outputs": [
    {
     "name": "stdout",
     "output_type": "stream",
     "text": [
      "Справочник PYTHON.  Кратко, быстро, под рукой\n"
     ]
    }
   ],
   "source": [
    "title = d.find(\"h3\").text\n",
    "print(title)"
   ]
  },
  {
   "cell_type": "markdown",
   "metadata": {},
   "source": [
    "Во фрагменте с тэгом `<h3>` (заголовок третьего уровня, не очень крупный), помимо самого названия товара есть еще и другие элементы:"
   ]
  },
  {
   "cell_type": "code",
   "execution_count": 19,
   "metadata": {},
   "outputs": [
    {
     "data": {
      "text/plain": [
       "<h3><a href=\"/product/10776656\" id=\"p_title_10776656\">Справочник PYTHON.  Кратко, быстро, под рукой</a></h3>"
      ]
     },
     "execution_count": 19,
     "metadata": {},
     "output_type": "execute_result"
    }
   ],
   "source": [
    "d.find(\"h3\")"
   ]
  },
  {
   "cell_type": "markdown",
   "metadata": {},
   "source": [
    "В частности, есть ссылка на страницу товара, она заключена в тэг `<a>` внутри (ссылки обычно в такой тэг и заключаются). Выберем из найденного заголовка вложенный фрагмент с ссылкой `<a>`:"
   ]
  },
  {
   "cell_type": "code",
   "execution_count": 20,
   "metadata": {},
   "outputs": [
    {
     "data": {
      "text/plain": [
       "<a href=\"/product/10776656\" id=\"p_title_10776656\">Справочник PYTHON.  Кратко, быстро, под рукой</a>"
      ]
     },
     "execution_count": 20,
     "metadata": {},
     "output_type": "execute_result"
    }
   ],
   "source": [
    "d.find(\"h3\").find(\"a\")"
   ]
  },
  {
   "cell_type": "markdown",
   "metadata": {},
   "source": [
    "Чтобы извлечь саму ссылку, без тэга и лишней информации, заберём значение из атрибута `href` с помощью метода `.get()`:"
   ]
  },
  {
   "cell_type": "code",
   "execution_count": 21,
   "metadata": {},
   "outputs": [
    {
     "data": {
      "text/plain": [
       "'/product/10776656'"
      ]
     },
     "execution_count": 21,
     "metadata": {},
     "output_type": "execute_result"
    }
   ],
   "source": [
    "d.find(\"h3\").find(\"a\").get(\"href\")"
   ]
  },
  {
   "cell_type": "markdown",
   "metadata": {},
   "source": [
    "Сделаем ссылку полной – доклеим к ней ссылку на главную страницу сайта:"
   ]
  },
  {
   "cell_type": "code",
   "execution_count": 23,
   "metadata": {},
   "outputs": [
    {
     "name": "stdout",
     "output_type": "stream",
     "text": [
      "https://www.biblio-globus.ru/product/10776656\n"
     ]
    }
   ],
   "source": [
    "link = \"https://www.biblio-globus.ru\" + d.find(\"h3\").find(\"a\").get(\"href\")\n",
    "print(link)"
   ]
  },
  {
   "cell_type": "markdown",
   "metadata": {},
   "source": [
    "Чтобы найти цену товара (и обычную, и со скидкой), найдём фрагмент с тэгом `<div>` с атрибутом `class` равным `price_item_block`:"
   ]
  },
  {
   "cell_type": "code",
   "execution_count": 24,
   "metadata": {},
   "outputs": [
    {
     "data": {
      "text/plain": [
       "<div class=\"price_item_block\"><s>569 ₽</s> <span class=\"price_item_new price_item_with_discount\">512 ₽</span></div>"
      ]
     },
     "execution_count": 24,
     "metadata": {},
     "output_type": "execute_result"
    }
   ],
   "source": [
    "d.find(\"div\", {\"class\" : \"price_item_block\"})"
   ]
  },
  {
   "cell_type": "markdown",
   "metadata": {},
   "source": [
    "Не будем делить содержимое на части, просто выгрузим весь текст со всеми ценами и пробелами между ними:"
   ]
  },
  {
   "cell_type": "code",
   "execution_count": 25,
   "metadata": {},
   "outputs": [
    {
     "data": {
      "text/plain": [
       "'569\\xa0₽\\xa0512\\xa0₽'"
      ]
     },
     "execution_count": 25,
     "metadata": {},
     "output_type": "execute_result"
    }
   ],
   "source": [
    "d.find(\"div\", {\"class\" : \"price_item_block\"}).text"
   ]
  },
  {
   "cell_type": "markdown",
   "metadata": {},
   "source": [
    "Неразрывные пробелы `\\xa0` заменим на обычные, полную обработку цены оставим на потом (логично сначала выгрузить всё в сыром виде, а затем проанализировать, как универсальным образом преобразовать результаты; здесь, например, не у всех товаров будет две цены, так как есть товары без скидки):"
   ]
  },
  {
   "cell_type": "code",
   "execution_count": 26,
   "metadata": {},
   "outputs": [
    {
     "name": "stdout",
     "output_type": "stream",
     "text": [
      "569 ₽ 512 ₽\n"
     ]
    }
   ],
   "source": [
    "price = d.find(\"div\", {\"class\" : \"price_item_block\"}).text.replace(\"\\xa0\", \" \")\n",
    "print(price)"
   ]
  },
  {
   "cell_type": "markdown",
   "metadata": {},
   "source": [
    "Напишем функцию `get_item()`, которая будет принимать на вход одну карточку, то есть один элемент – объект `BeautifulSoup` из `divs`, а возвращать список характеристик товара:\n",
    "\n",
    "* название товара;\n",
    "* ссылка на страницу;\n",
    "* цена."
   ]
  },
  {
   "cell_type": "code",
   "execution_count": 27,
   "metadata": {},
   "outputs": [],
   "source": [
    "# копируем код выше\n",
    "\n",
    "def get_item(d):\n",
    "    title = d.find(\"h3\").text\n",
    "    link = \"https://www.biblio-globus.ru/\" + d.find(\"h3\").find(\"a\").get(\"href\")\n",
    "    price = d.find(\"div\", {\"class\" : \"price_item_block\"}).text.replace(\"\\xa0\", \" \")\n",
    "    return title, link, price"
   ]
  },
  {
   "cell_type": "code",
   "execution_count": 28,
   "metadata": {},
   "outputs": [
    {
     "data": {
      "text/plain": [
       "('Папка на резинках пластиковая ErichKrause® Python Print, A4 (в пакете по 4 шт.)',\n",
       " 'https://www.biblio-globus.ru//product/10730131',\n",
       " ' 159 ₽')"
      ]
     },
     "execution_count": 28,
     "metadata": {},
     "output_type": "execute_result"
    }
   ],
   "source": [
    "# проверяем функцию на одном элементе\n",
    "\n",
    "get_item(divs[0])"
   ]
  },
  {
   "cell_type": "markdown",
   "metadata": {},
   "source": [
    "Применим эту функцию ко всем элементам в `divs`:"
   ]
  },
  {
   "cell_type": "code",
   "execution_count": 29,
   "metadata": {},
   "outputs": [
    {
     "name": "stdout",
     "output_type": "stream",
     "text": [
      "[('Папка на резинках пластиковая ErichKrause® Python Print, A4 (в пакете по 4 шт.)', 'https://www.biblio-globus.ru//product/10730131', ' 159 ₽'), ('Папка на 4 кольцах пластиковая ErichKrause® Tropical Python, 24мм, A4 (в пакете по 4 шт.)', 'https://www.biblio-globus.ru//product/10726752', ' 269 ₽'), ('Python глазами хакера', 'https://www.biblio-globus.ru//product/10823441', '509 ₽ 458 ₽')]\n"
     ]
    }
   ],
   "source": [
    "results = [get_item(d) for d in divs]\n",
    "\n",
    "# несколько значений для примера\n",
    "print(results[0:3])"
   ]
  },
  {
   "cell_type": "markdown",
   "metadata": {},
   "source": [
    "Ура! Результаты из кода HTML мы выгрузили. Но давайте мыслить более глобально – результаты не помещаются на одной странице, поэтому для общего решения нам надо научиться выяснять, сколько страниц пролистывать для сбора всех товаров по ключевым словам.\n",
    "\n",
    "Для этого нам нужно найти кнопку со стрелками `»»`, которая при кликании переносит нас на последнюю страницу результатов, и внимательно её изучить.\n",
    "\n",
    "![](https://raw.githubusercontent.com/allatambov/PyAllAdd/main/selenium-five.jpeg)"
   ]
  },
  {
   "cell_type": "markdown",
   "metadata": {},
   "source": [
    "Вариантов найти подходящий элемент, как всегда, несколько, мы найдём его по частичному тексту ссылки (частичному, поскольку внутри кнопки есть ещё элементы, посмотрите исходный код):"
   ]
  },
  {
   "cell_type": "code",
   "execution_count": 30,
   "metadata": {},
   "outputs": [],
   "source": [
    "last = br.find_element(By.PARTIAL_LINK_TEXT, \"»»\")"
   ]
  },
  {
   "cell_type": "markdown",
   "metadata": {},
   "source": [
    "Чтобы проверить, тот ли элемент мы нашли, запросим код HTML внутри `last`:"
   ]
  },
  {
   "cell_type": "code",
   "execution_count": 31,
   "metadata": {},
   "outputs": [
    {
     "data": {
      "text/plain": [
       "'<span aria-hidden=\"true\">»»</span><span class=\"sr-only\">Next</span>'"
      ]
     },
     "execution_count": 31,
     "metadata": {},
     "output_type": "execute_result"
    }
   ],
   "source": [
    "last.get_attribute('innerHTML')"
   ]
  },
  {
   "cell_type": "markdown",
   "metadata": {},
   "source": [
    "Да, тот, но сам код нам сейчас мало интересен, нам нужна только ссылка внутри `href`, потому что именно в ней хранится информация о том, сколько страниц с результатами мы получили по нашему запросу:"
   ]
  },
  {
   "cell_type": "code",
   "execution_count": 32,
   "metadata": {},
   "outputs": [
    {
     "name": "stdout",
     "output_type": "stream",
     "text": [
      "https://www.biblio-globus.ru/catalog/search?query=Python&page=10&sort=5&instock=on&cat=0&isdiscount=\n"
     ]
    }
   ],
   "source": [
    "last_link = last.get_attribute(\"href\")\n",
    "print(last_link)"
   ]
  },
  {
   "cell_type": "markdown",
   "metadata": {},
   "source": [
    "Вот эта информация уже гораздо полезнее, внутри этой ссылки есть указание на то, какая страница является последней. То есть, нам не придётся кликать на стрелку *Далее* до тех пор, пока мы не дойдём до конца, через какой-нибудь цикл while, мы сможем написать код, который будет пролистывать 10 страниц и забирать результаты.\n",
    "\n",
    "Подготовим всё необходимое для цикла. Извлечём номер последней страницы:"
   ]
  },
  {
   "cell_type": "code",
   "execution_count": 33,
   "metadata": {},
   "outputs": [
    {
     "data": {
      "text/plain": [
       "'10&sort=5&instock=on&cat=0&isdiscount='"
      ]
     },
     "execution_count": 33,
     "metadata": {},
     "output_type": "execute_result"
    }
   ],
   "source": [
    "# разбиваем ссылку по page=\n",
    "# забираем часть после page= с индексом 1\n",
    "\n",
    "last_link.split(\"page=\")[1]"
   ]
  },
  {
   "cell_type": "code",
   "execution_count": 34,
   "metadata": {},
   "outputs": [
    {
     "data": {
      "text/plain": [
       "'10'"
      ]
     },
     "execution_count": 34,
     "metadata": {},
     "output_type": "execute_result"
    }
   ],
   "source": [
    "# разбиваем результат по &\n",
    "# забираем часть до первого &\n",
    "\n",
    "last_link.split(\"page=\")[1].split(\"&\")[0]"
   ]
  },
  {
   "cell_type": "code",
   "execution_count": 35,
   "metadata": {},
   "outputs": [],
   "source": [
    "# превращаем строку в целое число и сохраняем в n\n",
    "\n",
    "n = int(last_link.split(\"page=\")[1].split(\"&\")[0])"
   ]
  },
  {
   "cell_type": "markdown",
   "metadata": {},
   "source": [
    "Собственно, теперь можно через простое форматирование строк создать ссылки на страницы с результатами от 1 до 10 и запустить цикл for для извлечения всех-всех результатов."
   ]
  },
  {
   "cell_type": "code",
   "execution_count": null,
   "metadata": {},
   "outputs": [],
   "source": [
    "# нужна f-строка – вместо page=10 подставляем числа от 1 до 10\n",
    "# https://www.biblio-globus.ru/catalog/search?query=Python&page=10&sort=5&instock=on&cat=0&isdiscount="
   ]
  },
  {
   "cell_type": "markdown",
   "metadata": {},
   "source": [
    "Импортируем функцию `sleep()` из модуля `time` для выставления задержки после каждой итерации цикл – чтобы сайт не заподозрил неладное и не зафиксировал слишком частые автоматические ззапросы:"
   ]
  },
  {
   "cell_type": "code",
   "execution_count": 36,
   "metadata": {},
   "outputs": [],
   "source": [
    "from time import sleep"
   ]
  },
  {
   "cell_type": "markdown",
   "metadata": {},
   "source": [
    "Создадим пустой список `res_all` и будем заполнять его в цикле, добавляя через метод `.extend()` новые списки по 12 элементов (на одной странице 12 результатов в данный момент, на последней их может быть меньше):"
   ]
  },
  {
   "cell_type": "code",
   "execution_count": 37,
   "metadata": {},
   "outputs": [],
   "source": [
    "res_all = []\n",
    "for i in range(1, n + 1):\n",
    "    # формируем ссылку \n",
    "    # отправляем ее в адресную строку\n",
    "    href = f\"https://www.biblio-globus.ru/catalog/search?query=Python&page={i}&sort=5&instock=on&cat=0&isdiscount=\"\n",
    "    br.get(href)\n",
    "    \n",
    "    # выгружаем код и извлекаем результаты\n",
    "    html = br.page_source\n",
    "    soup = BeautifulSoup(html)\n",
    "    divs = soup.find_all(\"div\", {\"class\" : \"product\"})\n",
    "    results = [get_item(d) for d in divs]\n",
    "    res_all.extend(results)\n",
    "    # ждем 1.5 секунды перед переходом к след странице\n",
    "    sleep(1.5)"
   ]
  },
  {
   "cell_type": "code",
   "execution_count": 38,
   "metadata": {},
   "outputs": [
    {
     "name": "stdout",
     "output_type": "stream",
     "text": [
      "[('Для начинающих. Python. 12 уроков для начинающих', 'https://www.biblio-globus.ru//product/10933549', '849 ₽ 764 ₽'), ('Python. Полное руководство', 'https://www.biblio-globus.ru//product/10829190', ' 969 ₽')]\n"
     ]
    }
   ],
   "source": [
    "print(res_all[10:12]) # примеры элементов списка"
   ]
  },
  {
   "cell_type": "markdown",
   "metadata": {},
   "source": [
    "Импортируем библиотеку `pandas` и превратим список кортежей `res_all` в датафрейм (привычную таблицу):"
   ]
  },
  {
   "cell_type": "code",
   "execution_count": 39,
   "metadata": {},
   "outputs": [],
   "source": [
    "import pandas as pd"
   ]
  },
  {
   "cell_type": "code",
   "execution_count": 40,
   "metadata": {},
   "outputs": [
    {
     "data": {
      "text/html": [
       "<div>\n",
       "<style scoped>\n",
       "    .dataframe tbody tr th:only-of-type {\n",
       "        vertical-align: middle;\n",
       "    }\n",
       "\n",
       "    .dataframe tbody tr th {\n",
       "        vertical-align: top;\n",
       "    }\n",
       "\n",
       "    .dataframe thead th {\n",
       "        text-align: right;\n",
       "    }\n",
       "</style>\n",
       "<table border=\"1\" class=\"dataframe\">\n",
       "  <thead>\n",
       "    <tr style=\"text-align: right;\">\n",
       "      <th></th>\n",
       "      <th>0</th>\n",
       "      <th>1</th>\n",
       "      <th>2</th>\n",
       "    </tr>\n",
       "  </thead>\n",
       "  <tbody>\n",
       "    <tr>\n",
       "      <th>0</th>\n",
       "      <td>Папка на резинках пластиковая ErichKrause® Pyt...</td>\n",
       "      <td>https://www.biblio-globus.ru//product/10730131</td>\n",
       "      <td>159 ₽</td>\n",
       "    </tr>\n",
       "    <tr>\n",
       "      <th>1</th>\n",
       "      <td>Папка на 4 кольцах пластиковая ErichKrause® Tr...</td>\n",
       "      <td>https://www.biblio-globus.ru//product/10726752</td>\n",
       "      <td>269 ₽</td>\n",
       "    </tr>\n",
       "    <tr>\n",
       "      <th>2</th>\n",
       "      <td>Python глазами хакера</td>\n",
       "      <td>https://www.biblio-globus.ru//product/10823441</td>\n",
       "      <td>509 ₽ 458 ₽</td>\n",
       "    </tr>\n",
       "    <tr>\n",
       "      <th>3</th>\n",
       "      <td>Справочник PYTHON.  Кратко, быстро, под рукой</td>\n",
       "      <td>https://www.biblio-globus.ru//product/10776656</td>\n",
       "      <td>569 ₽ 512 ₽</td>\n",
       "    </tr>\n",
       "    <tr>\n",
       "      <th>4</th>\n",
       "      <td>Python на примерах. Практика, практика и тольк...</td>\n",
       "      <td>https://www.biblio-globus.ru//product/10914448</td>\n",
       "      <td>579 ₽ 521 ₽</td>\n",
       "    </tr>\n",
       "    <tr>\n",
       "      <th>...</th>\n",
       "      <td>...</td>\n",
       "      <td>...</td>\n",
       "      <td>...</td>\n",
       "    </tr>\n",
       "    <tr>\n",
       "      <th>110</th>\n",
       "      <td>PYTHON и анализ данных: Первичная обработка да...</td>\n",
       "      <td>https://www.biblio-globus.ru//product/10911270</td>\n",
       "      <td>4719 ₽</td>\n",
       "    </tr>\n",
       "    <tr>\n",
       "      <th>111</th>\n",
       "      <td>Алгебра и геометрия с примерами на Python</td>\n",
       "      <td>https://www.biblio-globus.ru//product/10841699</td>\n",
       "      <td>4829 ₽</td>\n",
       "    </tr>\n",
       "    <tr>\n",
       "      <th>112</th>\n",
       "      <td>Предварительная подготовка данных в PYTHON. То...</td>\n",
       "      <td>https://www.biblio-globus.ru//product/10907047</td>\n",
       "      <td>6289 ₽ 4716 ₽</td>\n",
       "    </tr>\n",
       "    <tr>\n",
       "      <th>113</th>\n",
       "      <td>Предварительная подготовка данных в PYTHON. То...</td>\n",
       "      <td>https://www.biblio-globus.ru//product/10907046</td>\n",
       "      <td>6289 ₽ 4716 ₽</td>\n",
       "    </tr>\n",
       "    <tr>\n",
       "      <th>114</th>\n",
       "      <td>Python для финансовых расчетов</td>\n",
       "      <td>https://www.biblio-globus.ru//product/10760199</td>\n",
       "      <td>8799 ₽ 6599 ₽</td>\n",
       "    </tr>\n",
       "  </tbody>\n",
       "</table>\n",
       "<p>115 rows × 3 columns</p>\n",
       "</div>"
      ],
      "text/plain": [
       "                                                     0  \\\n",
       "0    Папка на резинках пластиковая ErichKrause® Pyt...   \n",
       "1    Папка на 4 кольцах пластиковая ErichKrause® Tr...   \n",
       "2                                Python глазами хакера   \n",
       "3        Справочник PYTHON.  Кратко, быстро, под рукой   \n",
       "4    Python на примерах. Практика, практика и тольк...   \n",
       "..                                                 ...   \n",
       "110  PYTHON и анализ данных: Первичная обработка да...   \n",
       "111          Алгебра и геометрия с примерами на Python   \n",
       "112  Предварительная подготовка данных в PYTHON. То...   \n",
       "113  Предварительная подготовка данных в PYTHON. То...   \n",
       "114                     Python для финансовых расчетов   \n",
       "\n",
       "                                                  1              2  \n",
       "0    https://www.biblio-globus.ru//product/10730131          159 ₽  \n",
       "1    https://www.biblio-globus.ru//product/10726752          269 ₽  \n",
       "2    https://www.biblio-globus.ru//product/10823441    509 ₽ 458 ₽  \n",
       "3    https://www.biblio-globus.ru//product/10776656    569 ₽ 512 ₽  \n",
       "4    https://www.biblio-globus.ru//product/10914448    579 ₽ 521 ₽  \n",
       "..                                              ...            ...  \n",
       "110  https://www.biblio-globus.ru//product/10911270         4719 ₽  \n",
       "111  https://www.biblio-globus.ru//product/10841699         4829 ₽  \n",
       "112  https://www.biblio-globus.ru//product/10907047  6289 ₽ 4716 ₽  \n",
       "113  https://www.biblio-globus.ru//product/10907046  6289 ₽ 4716 ₽  \n",
       "114  https://www.biblio-globus.ru//product/10760199  8799 ₽ 6599 ₽  \n",
       "\n",
       "[115 rows x 3 columns]"
      ]
     },
     "execution_count": 40,
     "metadata": {},
     "output_type": "execute_result"
    }
   ],
   "source": [
    "df = pd.DataFrame(res_all)\n",
    "df"
   ]
  },
  {
   "cell_type": "markdown",
   "metadata": {},
   "source": [
    "Добавим названия столбцов:"
   ]
  },
  {
   "cell_type": "code",
   "execution_count": 41,
   "metadata": {},
   "outputs": [
    {
     "data": {
      "text/html": [
       "<div>\n",
       "<style scoped>\n",
       "    .dataframe tbody tr th:only-of-type {\n",
       "        vertical-align: middle;\n",
       "    }\n",
       "\n",
       "    .dataframe tbody tr th {\n",
       "        vertical-align: top;\n",
       "    }\n",
       "\n",
       "    .dataframe thead th {\n",
       "        text-align: right;\n",
       "    }\n",
       "</style>\n",
       "<table border=\"1\" class=\"dataframe\">\n",
       "  <thead>\n",
       "    <tr style=\"text-align: right;\">\n",
       "      <th></th>\n",
       "      <th>title</th>\n",
       "      <th>link</th>\n",
       "      <th>price</th>\n",
       "    </tr>\n",
       "  </thead>\n",
       "  <tbody>\n",
       "    <tr>\n",
       "      <th>0</th>\n",
       "      <td>Папка на резинках пластиковая ErichKrause® Pyt...</td>\n",
       "      <td>https://www.biblio-globus.ru//product/10730131</td>\n",
       "      <td>159 ₽</td>\n",
       "    </tr>\n",
       "    <tr>\n",
       "      <th>1</th>\n",
       "      <td>Папка на 4 кольцах пластиковая ErichKrause® Tr...</td>\n",
       "      <td>https://www.biblio-globus.ru//product/10726752</td>\n",
       "      <td>269 ₽</td>\n",
       "    </tr>\n",
       "    <tr>\n",
       "      <th>2</th>\n",
       "      <td>Python глазами хакера</td>\n",
       "      <td>https://www.biblio-globus.ru//product/10823441</td>\n",
       "      <td>509 ₽ 458 ₽</td>\n",
       "    </tr>\n",
       "    <tr>\n",
       "      <th>3</th>\n",
       "      <td>Справочник PYTHON.  Кратко, быстро, под рукой</td>\n",
       "      <td>https://www.biblio-globus.ru//product/10776656</td>\n",
       "      <td>569 ₽ 512 ₽</td>\n",
       "    </tr>\n",
       "    <tr>\n",
       "      <th>4</th>\n",
       "      <td>Python на примерах. Практика, практика и тольк...</td>\n",
       "      <td>https://www.biblio-globus.ru//product/10914448</td>\n",
       "      <td>579 ₽ 521 ₽</td>\n",
       "    </tr>\n",
       "    <tr>\n",
       "      <th>...</th>\n",
       "      <td>...</td>\n",
       "      <td>...</td>\n",
       "      <td>...</td>\n",
       "    </tr>\n",
       "    <tr>\n",
       "      <th>110</th>\n",
       "      <td>PYTHON и анализ данных: Первичная обработка да...</td>\n",
       "      <td>https://www.biblio-globus.ru//product/10911270</td>\n",
       "      <td>4719 ₽</td>\n",
       "    </tr>\n",
       "    <tr>\n",
       "      <th>111</th>\n",
       "      <td>Алгебра и геометрия с примерами на Python</td>\n",
       "      <td>https://www.biblio-globus.ru//product/10841699</td>\n",
       "      <td>4829 ₽</td>\n",
       "    </tr>\n",
       "    <tr>\n",
       "      <th>112</th>\n",
       "      <td>Предварительная подготовка данных в PYTHON. То...</td>\n",
       "      <td>https://www.biblio-globus.ru//product/10907047</td>\n",
       "      <td>6289 ₽ 4716 ₽</td>\n",
       "    </tr>\n",
       "    <tr>\n",
       "      <th>113</th>\n",
       "      <td>Предварительная подготовка данных в PYTHON. То...</td>\n",
       "      <td>https://www.biblio-globus.ru//product/10907046</td>\n",
       "      <td>6289 ₽ 4716 ₽</td>\n",
       "    </tr>\n",
       "    <tr>\n",
       "      <th>114</th>\n",
       "      <td>Python для финансовых расчетов</td>\n",
       "      <td>https://www.biblio-globus.ru//product/10760199</td>\n",
       "      <td>8799 ₽ 6599 ₽</td>\n",
       "    </tr>\n",
       "  </tbody>\n",
       "</table>\n",
       "<p>115 rows × 3 columns</p>\n",
       "</div>"
      ],
      "text/plain": [
       "                                                 title  \\\n",
       "0    Папка на резинках пластиковая ErichKrause® Pyt...   \n",
       "1    Папка на 4 кольцах пластиковая ErichKrause® Tr...   \n",
       "2                                Python глазами хакера   \n",
       "3        Справочник PYTHON.  Кратко, быстро, под рукой   \n",
       "4    Python на примерах. Практика, практика и тольк...   \n",
       "..                                                 ...   \n",
       "110  PYTHON и анализ данных: Первичная обработка да...   \n",
       "111          Алгебра и геометрия с примерами на Python   \n",
       "112  Предварительная подготовка данных в PYTHON. То...   \n",
       "113  Предварительная подготовка данных в PYTHON. То...   \n",
       "114                     Python для финансовых расчетов   \n",
       "\n",
       "                                               link          price  \n",
       "0    https://www.biblio-globus.ru//product/10730131          159 ₽  \n",
       "1    https://www.biblio-globus.ru//product/10726752          269 ₽  \n",
       "2    https://www.biblio-globus.ru//product/10823441    509 ₽ 458 ₽  \n",
       "3    https://www.biblio-globus.ru//product/10776656    569 ₽ 512 ₽  \n",
       "4    https://www.biblio-globus.ru//product/10914448    579 ₽ 521 ₽  \n",
       "..                                              ...            ...  \n",
       "110  https://www.biblio-globus.ru//product/10911270         4719 ₽  \n",
       "111  https://www.biblio-globus.ru//product/10841699         4829 ₽  \n",
       "112  https://www.biblio-globus.ru//product/10907047  6289 ₽ 4716 ₽  \n",
       "113  https://www.biblio-globus.ru//product/10907046  6289 ₽ 4716 ₽  \n",
       "114  https://www.biblio-globus.ru//product/10760199  8799 ₽ 6599 ₽  \n",
       "\n",
       "[115 rows x 3 columns]"
      ]
     },
     "execution_count": 41,
     "metadata": {},
     "output_type": "execute_result"
    }
   ],
   "source": [
    "df.columns = [\"title\", \"link\", \"price\"]\n",
    "df"
   ]
  },
  {
   "cell_type": "markdown",
   "metadata": {},
   "source": [
    "Выгрузим датафрейм в файл Excel – обрабатывать полученные результаты мы будем в следующей части."
   ]
  },
  {
   "cell_type": "code",
   "execution_count": 42,
   "metadata": {},
   "outputs": [],
   "source": [
    "df.to_excel(\"Python_items.xlsx\")"
   ]
  }
 ],
 "metadata": {
  "kernelspec": {
   "display_name": "Python 3",
   "language": "python",
   "name": "python3"
  },
  "language_info": {
   "codemirror_mode": {
    "name": "ipython",
    "version": 3
   },
   "file_extension": ".py",
   "mimetype": "text/x-python",
   "name": "python",
   "nbconvert_exporter": "python",
   "pygments_lexer": "ipython3",
   "version": "3.7.4"
  }
 },
 "nbformat": 4,
 "nbformat_minor": 2
}
