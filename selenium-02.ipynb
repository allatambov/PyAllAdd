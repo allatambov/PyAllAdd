{
 "cells": [
  {
   "cell_type": "markdown",
   "metadata": {},
   "source": [
    "# Программирование на Python\n",
    "\n",
    "*Алла Тамбовцева, НИУ ВШЭ*\n",
    "\n",
    "## Управление браузером с Selenium: скачивание файлов"
   ]
  },
  {
   "cell_type": "markdown",
   "metadata": {},
   "source": [
    "### Часть 1: скачиваем файлы DOC\n",
    "\n",
    "Давайте зайдем на страницу сайта Вышки, на которой хранятся бланки заявлений для приема на работу и скачаем все бланки в формате `.doc`. В данном случае задача не очень сложная: если посмотреть на исходный код страницы, можно заметить, что для скачивания файлов необходимо просто кликнуть на ссылку, которая заканчивается расширением `.doc`. Поэтому пока не будем использовать Selenium, а вытащим из исходного кода страницы подходящие ссылки. Импортируем модуль `requests` для отправки запроса и получения исходного кода страницы и функцию `BeautifulSoup` для приведения его к более удобному виду для поиска:"
   ]
  },
  {
   "cell_type": "code",
   "execution_count": 1,
   "metadata": {},
   "outputs": [],
   "source": [
    "import requests\n",
    "from bs4 import BeautifulSoup"
   ]
  },
  {
   "cell_type": "markdown",
   "metadata": {},
   "source": [
    "Отправляем запрос:"
   ]
  },
  {
   "cell_type": "code",
   "execution_count": 2,
   "metadata": {},
   "outputs": [],
   "source": [
    "page = requests.get(\"https://hr.hse.ru/blanki\")"
   ]
  },
  {
   "cell_type": "markdown",
   "metadata": {},
   "source": [
    "В переменной `page` сейчас сохранён объект типа `Response`, скрытый объект с результатом запроса:"
   ]
  },
  {
   "cell_type": "code",
   "execution_count": 3,
   "metadata": {},
   "outputs": [
    {
     "name": "stdout",
     "output_type": "stream",
     "text": [
      "<Response [200]> <class 'requests.models.Response'>\n"
     ]
    }
   ],
   "source": [
    "print(page, type(page))"
   ]
  },
  {
   "cell_type": "markdown",
   "metadata": {},
   "source": [
    "Из явных результатов мы видим только код 200, который означает, что запрос благополучно отправлен и ответ получен. О кодах запросов HTTP можно почитать [здесь](https://developer.mozilla.org/en-US/docs/Web/HTTP/Status), собственно, это те коды, которые мы как пользователи можем увидеть при взаимодействии с сайтами и базами данных (известный код 404, сообщающий, что страница не найдена или код 500, всплывающий, если возникла неизвестная проблема на сервере).\n",
    "\n",
    "Из этого объекта `page` можно извлечь различные атрибуты – составные части, которые скрыты внутри. Например, кодировку страницы:"
   ]
  },
  {
   "cell_type": "code",
   "execution_count": 4,
   "metadata": {},
   "outputs": [
    {
     "name": "stdout",
     "output_type": "stream",
     "text": [
      "utf-8\n"
     ]
    }
   ],
   "source": [
    "print(page.encoding)"
   ]
  },
  {
   "cell_type": "markdown",
   "metadata": {},
   "source": [
    "Код запроса отдельным числом:"
   ]
  },
  {
   "cell_type": "code",
   "execution_count": 5,
   "metadata": {},
   "outputs": [
    {
     "name": "stdout",
     "output_type": "stream",
     "text": [
      "200\n"
     ]
    }
   ],
   "source": [
    "print(page.status_code)"
   ]
  },
  {
   "cell_type": "markdown",
   "metadata": {},
   "source": [
    "Мы же извлечём исходный код страницы в виде текста:"
   ]
  },
  {
   "cell_type": "code",
   "execution_count": null,
   "metadata": {},
   "outputs": [],
   "source": [
    "# print(page.text)"
   ]
  },
  {
   "cell_type": "markdown",
   "metadata": {},
   "source": [
    "Так как работать с текстом в таком виде неудобно (только если вы не специалист по регулярным выражениям), преобразуем результат в объект `BeautifulSoup`:"
   ]
  },
  {
   "cell_type": "code",
   "execution_count": 6,
   "metadata": {},
   "outputs": [],
   "source": [
    "soup = BeautifulSoup(page.text)"
   ]
  },
  {
   "cell_type": "markdown",
   "metadata": {},
   "source": [
    "Теперь по этому объекту `soup` можно выполнять поиск по тэгам и атрибутам. Так как нам нужны ссылки на документы, найдём сначала все ссылки на странице. Ссылки обычно заключаются в тэг `<a>`:"
   ]
  },
  {
   "cell_type": "code",
   "execution_count": 7,
   "metadata": {},
   "outputs": [],
   "source": [
    "L = soup.find_all(\"a\")"
   ]
  },
  {
   "cell_type": "code",
   "execution_count": 8,
   "metadata": {},
   "outputs": [
    {
     "data": {
      "text/plain": [
       "[<a class=\"link link_no-underline link_dark2 fa-sidemenu__link\" href=\"https://www.hse.ru/docs/index.html\">Нормативные документы НИУ ВШЭ</a>,\n",
       " <a class=\"link link_no-underline link_dark2 fa-sidemenu__link\" href=\"https://handbook.hse.ru/adm_srv\">Справочник сотрудника</a>]"
      ]
     },
     "execution_count": 8,
     "metadata": {},
     "output_type": "execute_result"
    }
   ],
   "source": [
    "L[10:12] # примеры элементов"
   ]
  },
  {
   "cell_type": "markdown",
   "metadata": {},
   "source": [
    "Теперь наша задача – отобрать элементы, которые, во-первых, являются полноценными гиперссылками (имеют атрибут `href` со ссылкой, которая куда-то перенаправляет пользователя), а, во-вторых, являются ссылками именно на документы.\n",
    "\n",
    "Напишем цикл, который проходит по всем элементам `L`, проверяет, заканчивается ли значение в атрибуте `href` на `.doc`, и если это так, добавляет ссылку в новый список `docs`:"
   ]
  },
  {
   "cell_type": "code",
   "execution_count": 9,
   "metadata": {},
   "outputs": [],
   "source": [
    "docs = []\n",
    "for a in L:\n",
    "    if a.get(\"href\").endswith(\".doc\"):\n",
    "        docs.append(a.get(\"href\"))"
   ]
  },
  {
   "cell_type": "markdown",
   "metadata": {},
   "source": [
    "Так как атрибут `href` может отсутствовать (какие-то кликабельные элементы типа кнопок имеют тэг `<a>`, а ссылки как таковой нет), напишем более общий код – добавим конструкцию `try-except`, чтобы при столкновениями с такими случаями цикл не останавливался, а просто переходил в следующему элементу:"
   ]
  },
  {
   "cell_type": "code",
   "execution_count": 10,
   "metadata": {},
   "outputs": [],
   "source": [
    "# пишем try-except, чтобы код не ломался при столкновениями с такими случаями\n",
    "# в итоге забираем только те ссылки, которые заканчиваются на .doc\n",
    "\n",
    "L = soup.find_all(\"a\")\n",
    "docs = []\n",
    "for a in L:\n",
    "    try:\n",
    "        if a.get(\"href\").endswith(\".doc\"):\n",
    "            docs.append(a.get(\"href\"))\n",
    "    except:\n",
    "        pass"
   ]
  },
  {
   "cell_type": "markdown",
   "metadata": {},
   "source": [
    "Пример нескольких ссылок:"
   ]
  },
  {
   "cell_type": "code",
   "execution_count": 11,
   "metadata": {},
   "outputs": [
    {
     "name": "stdout",
     "output_type": "stream",
     "text": [
      "https://www.hse.ru/data/2021/07/13/1313008643/5%20%D0%9F%D0%9F%D0%A1_%D0%97%D0%B0%D1%8F%D0%B2%D0%BB%D0%B5%D0%BD%D0%B8%D0%B5%20%D0%BF%D1%80%D0%B8%D0%B5%D0%BC%20%D0%BF%D0%BE%20%D0%B2%D0%BD%D0%B5%D1%88%D0%BD%D0%B5%D0%BC%D1%83%20%D1%81%D0%BE%D0%B2%D0%BC.%20%D0%B0%D1%84%D1%84,%20%D0%B3%D1%80%D0%B0%D0%B6%D0%B4,%20%D0%BD%D0%B0%D0%B3%D1%80%D1%83%D0%B7%D0%BA%D0%B0_080721.doc https://www.hse.ru/data/2021/07/13/1143788942/6%20%D0%9F%D0%9F%D0%A1_%D0%97%D0%B0%D1%8F%D0%B2%D0%BB%D0%B5%D0%BD%D0%B8%D0%B5%20%D0%BF%D1%80%D0%B8%D0%B5%D0%BC%20%D0%BF%D0%BE%20%D0%B2%D0%BD%D1%83%D1%82%D1%80%20%D1%81%D0%BE%D0%B2%D0%BC,%20%D0%B3%D1%80-%D0%B2%D0%BE,%20%D0%BD%D0%B0%D0%B3%D1%80%D1%83%D0%B7%D0%BA%D0%B0_080721.doc /data/2021/07/29/1083147102/17 Заявление о приеме на работу (основное место работы, НРД) 080721.doc /data/2021/07/13/1305904881/Пенсионное-НИУ-ВШЭ.doc /data/2021/07/13/1312363400/19 Перевод 080721.doc /data/2021/07/13/1105489121/20 ППС_Заявление на перевод _080721.doc /data/2023/04/04/2025441262/20 ППС_Заявление на перевод _в связи с избранием.doc https://www.hse.ru/data/2021/07/13/1123538207/21%20%D0%97%D0%B0%D1%8F%D0%B2%D0%BB%D0%B5%D0%BD%D0%B8%D0%B5%20%D0%BE%D0%B1%20%D1%83%D0%B2%D0%BE%D0%BB%D1%8C%D0%BD%D0%B5%D0%BD%D0%B8%D0%B8%20080721.doc https://www.hse.ru/data/2021/07/16/1186862320/22%20%D0%97%D0%B0%D1%8F%D0%B2%D0%BB%D0%B5%D0%BD%D0%B8%D0%B5%20%D0%BE%20%D0%BF%D1%80%D0%B8%D0%B5%D0%BC%D0%B5%20%D0%BD%D0%B0%20%D1%80%D0%B0%D0%B1%D0%BE%D1%82%D1%83%20(%D0%BE%D1%81%D0%BD%D0%BE%D0%B2%D0%BD%D0%BE..%D0%BE%D1%82%D1%8B%20%D0%9B%D0%B8%D1%86%D0%B5%D0%B9%20%D0%9A%D0%9E%D0%9F%20%D0%BE%D0%B1%D1%89%D0%B5%D0%B6%D0%B8%D1%82%D0%B8%D0%B5)%20080721.doc /mirror/pubs/share/882611318.doc\n"
     ]
    }
   ],
   "source": [
    "print(*docs[0:10])"
   ]
  },
  {
   "cell_type": "markdown",
   "metadata": {},
   "source": [
    "Проблема: не все ссылки полные, то есть начинающиеся с `http` или `https`. Исправим это:"
   ]
  },
  {
   "cell_type": "code",
   "execution_count": 12,
   "metadata": {},
   "outputs": [],
   "source": [
    "# если не начинается с http (https тоже под это подходит)\n",
    "# приклеивай https в начало\n",
    "# в любом случае добавляй ссылку doc к списку,\n",
    "# либо исходную верную, либо обновленную\n",
    "\n",
    "docs_full = []\n",
    "for doc in docs:\n",
    "    if not doc.startswith(\"http\"):\n",
    "        doc = \"https://hse.ru\" + doc\n",
    "    docs_full.append(doc)"
   ]
  },
  {
   "cell_type": "code",
   "execution_count": 13,
   "metadata": {},
   "outputs": [
    {
     "name": "stdout",
     "output_type": "stream",
     "text": [
      "https://www.hse.ru/data/2021/07/13/1313008643/5%20%D0%9F%D0%9F%D0%A1_%D0%97%D0%B0%D1%8F%D0%B2%D0%BB%D0%B5%D0%BD%D0%B8%D0%B5%20%D0%BF%D1%80%D0%B8%D0%B5%D0%BC%20%D0%BF%D0%BE%20%D0%B2%D0%BD%D0%B5%D1%88%D0%BD%D0%B5%D0%BC%D1%83%20%D1%81%D0%BE%D0%B2%D0%BC.%20%D0%B0%D1%84%D1%84,%20%D0%B3%D1%80%D0%B0%D0%B6%D0%B4,%20%D0%BD%D0%B0%D0%B3%D1%80%D1%83%D0%B7%D0%BA%D0%B0_080721.doc https://www.hse.ru/data/2021/07/13/1143788942/6%20%D0%9F%D0%9F%D0%A1_%D0%97%D0%B0%D1%8F%D0%B2%D0%BB%D0%B5%D0%BD%D0%B8%D0%B5%20%D0%BF%D1%80%D0%B8%D0%B5%D0%BC%20%D0%BF%D0%BE%20%D0%B2%D0%BD%D1%83%D1%82%D1%80%20%D1%81%D0%BE%D0%B2%D0%BC,%20%D0%B3%D1%80-%D0%B2%D0%BE,%20%D0%BD%D0%B0%D0%B3%D1%80%D1%83%D0%B7%D0%BA%D0%B0_080721.doc https://hse.ru/data/2021/07/29/1083147102/17 Заявление о приеме на работу (основное место работы, НРД) 080721.doc https://hse.ru/data/2021/07/13/1305904881/Пенсионное-НИУ-ВШЭ.doc https://hse.ru/data/2021/07/13/1312363400/19 Перевод 080721.doc https://hse.ru/data/2021/07/13/1105489121/20 ППС_Заявление на перевод _080721.doc https://hse.ru/data/2023/04/04/2025441262/20 ППС_Заявление на перевод _в связи с избранием.doc https://www.hse.ru/data/2021/07/13/1123538207/21%20%D0%97%D0%B0%D1%8F%D0%B2%D0%BB%D0%B5%D0%BD%D0%B8%D0%B5%20%D0%BE%D0%B1%20%D1%83%D0%B2%D0%BE%D0%BB%D1%8C%D0%BD%D0%B5%D0%BD%D0%B8%D0%B8%20080721.doc https://www.hse.ru/data/2021/07/16/1186862320/22%20%D0%97%D0%B0%D1%8F%D0%B2%D0%BB%D0%B5%D0%BD%D0%B8%D0%B5%20%D0%BE%20%D0%BF%D1%80%D0%B8%D0%B5%D0%BC%D0%B5%20%D0%BD%D0%B0%20%D1%80%D0%B0%D0%B1%D0%BE%D1%82%D1%83%20(%D0%BE%D1%81%D0%BD%D0%BE%D0%B2%D0%BD%D0%BE..%D0%BE%D1%82%D1%8B%20%D0%9B%D0%B8%D1%86%D0%B5%D0%B9%20%D0%9A%D0%9E%D0%9F%20%D0%BE%D0%B1%D1%89%D0%B5%D0%B6%D0%B8%D1%82%D0%B8%D0%B5)%20080721.doc https://hse.ru/mirror/pubs/share/882611318.doc\n"
     ]
    }
   ],
   "source": [
    "print(*docs_full[0:10])"
   ]
  },
  {
   "cell_type": "markdown",
   "metadata": {},
   "source": [
    "Теперь осталось только прокликать все ссылки из списка с помощью Selenium, по умолчанию документы сохранятся в папку с загрузками. Импортируем модуль `webdriver` из `selenium`, а заодно и функцию `sleep` из модуля `time` для выставления задержки по времени:\n"
   ]
  },
  {
   "cell_type": "code",
   "execution_count": 14,
   "metadata": {},
   "outputs": [],
   "source": [
    "from selenium import webdriver as wd\n",
    "from time import sleep"
   ]
  },
  {
   "cell_type": "markdown",
   "metadata": {},
   "source": [
    "Открываем новое окно браузера:"
   ]
  },
  {
   "cell_type": "code",
   "execution_count": 15,
   "metadata": {},
   "outputs": [],
   "source": [
    "br = wd.Chrome()"
   ]
  },
  {
   "cell_type": "markdown",
   "metadata": {},
   "source": [
    "Чтобы запустить скачивание файла, нужно просто поместить ссылку на него в адресную строку браузера (можете скопировать любую ссылку из `docs_full` и проверить в новой вкладке браузера). Выполним эти операции в цикле, добавив конструкцию `try-except` для учёта ошибок в случае некорректных ссылок и задержку 5 секунд между скачиваниями:"
   ]
  },
  {
   "cell_type": "code",
   "execution_count": null,
   "metadata": {},
   "outputs": [],
   "source": [
    "# проверяем папку с загрузками\n",
    "# файлы должны появляться там!\n",
    "\n",
    "for i in docs_full:\n",
    "    try:\n",
    "        br.get(i)\n",
    "        sleep(5)\n",
    "    except:\n",
    "        print(\"Incorrect link:\", i)\n",
    "        pass"
   ]
  },
  {
   "cell_type": "markdown",
   "metadata": {},
   "source": [
    "### Знакомство с XPATH\n",
    "\n",
    "**XML** (от *eXtended MarkUp Language*) – язык разметки, только в отличие от HTML не позволяет регулировать внешний вид страницы, а просто хранит данные в виде строки с удобными тэгами.\n",
    "\n",
    "На XML-файл можно смотреть как на хранилище, откуда по запросу динамически подгружаются данные для подстановки в HTML-файл. Смысл: когда нам нужно постоянно обновлять информацию на веб-странице (каталоги товаров в магазине, данные о погоде, курсе валют), не нужно каждый раз переписывать HTML-файл, достаточно изменить XML-файл, а из него уже информация «подтянется» на страницу с помощью запроса, написанного на JavaScript.\n",
    "\n",
    "**XPATH** (от *XML Path Language*) – язык запросов в XML-файлу, который можно использовать и для HTML тоже.\n",
    "\n",
    "Примеры запросов (честно взяты [отсюда](https://www.w3schools.com/xml/xpath_intro.asp), очень полезный тьюториал по XPATH, у них же есть классные материалы по XML):\n",
    "\n",
    "* `//title[@lang]`: все элементы с тэгом `<title>`, имеющие атрибут `lang`;\n",
    "* `//title[@lang='en']`: все элементы с тэгом `<title>`, имеющие атрибут `lang`, равный `'en'`;\n",
    "* `//title[@*]`: все элементы с тэгом `<title>`, имеющие хоть какие-нибудь атрибуты.\n",
    "\n",
    "Поиск элементов на странице можно осуществлять и без XPATH, мы это благополучно делали, но запрос XPATH – более универсальный способ, потому что в нём можно сразу указывать и тэги, и атрибуты, даже условия или функции. Библиотека BeautifulSoup (`bs4`) поиск с помощью XPATH не поддерживает, а вот Selenium – поддерживает и даже очень. "
   ]
  },
  {
   "cell_type": "markdown",
   "metadata": {},
   "source": [
    "### Часть 2: скачиваем PDF и ZIP"
   ]
  },
  {
   "cell_type": "markdown",
   "metadata": {},
   "source": [
    "Импортируем необходимую коллекцию методов `By` в дополнение к модулю `webdriver` для поиска элементов на странице с помощью Selenium:"
   ]
  },
  {
   "cell_type": "code",
   "execution_count": 16,
   "metadata": {},
   "outputs": [],
   "source": [
    "from selenium.webdriver.common.by import By"
   ]
  },
  {
   "cell_type": "markdown",
   "metadata": {},
   "source": [
    "Начнём новую сессию работы с браузером – новое окно браузера:"
   ]
  },
  {
   "cell_type": "code",
   "execution_count": 17,
   "metadata": {},
   "outputs": [],
   "source": [
    "br = wd.Chrome()"
   ]
  },
  {
   "cell_type": "markdown",
   "metadata": {},
   "source": [
    "Переходим на сайт для поиска нот (*why not?*):"
   ]
  },
  {
   "cell_type": "code",
   "execution_count": 18,
   "metadata": {},
   "outputs": [],
   "source": [
    "# в открытом окне, если появится сообщение о принятии cookies \n",
    "# вручную соглашаемся, чтобы лишнее окно исчезло\n",
    "\n",
    "br.get(\"https://ponotam.ru/\")"
   ]
  },
  {
   "cell_type": "markdown",
   "metadata": {},
   "source": [
    "Давайте для практики будем искать все необходимые элементы (поля для поиска, ссылки, кнопки) через XPATH.\n",
    "Сначала нам нужно найти поле для поиска. Код для этого поля находится во фрагменте с тэгом `<input>`, при этом у этого тэга есть атрибут `id` со значением `'edit-search-block-form--2']`. Вот как это выглядит в виде запроса:"
   ]
  },
  {
   "cell_type": "code",
   "execution_count": 19,
   "metadata": {},
   "outputs": [],
   "source": [
    "search = br.find_element(By.XPATH, \"//input[@id='edit-search-block-form--2']\")"
   ]
  },
  {
   "cell_type": "markdown",
   "metadata": {},
   "source": [
    "Если бы мы искали этот элемент как раньше, могли бы просто найти его по ID (но мы не ищем лёгких путей, разбираемся с XPATH на простых примерах):"
   ]
  },
  {
   "cell_type": "code",
   "execution_count": 20,
   "metadata": {},
   "outputs": [],
   "source": [
    "search = br.find_element(By.ID, \"edit-search-block-form--2\")"
   ]
  },
  {
   "cell_type": "markdown",
   "metadata": {},
   "source": [
    "Отправляем ключевые слова для поиска – должны сами напечататься в поле на странице в новом окне браузера:"
   ]
  },
  {
   "cell_type": "code",
   "execution_count": 21,
   "metadata": {},
   "outputs": [],
   "source": [
    "# метод .clear() очищает поле для ввода\n",
    "# добавляем на случай, если запустим ячейку несколько раз\n",
    "# чтобы ключевые слова не повторялись и не склеивались\n",
    "\n",
    "search.clear()\n",
    "search.send_keys(\"Happy New Year\")"
   ]
  },
  {
   "cell_type": "markdown",
   "metadata": {},
   "source": [
    "Теперь попробуем найти кнопку для активации поиска. Самый надёжный способ – найти её тоже по ID:"
   ]
  },
  {
   "cell_type": "code",
   "execution_count": 22,
   "metadata": {},
   "outputs": [],
   "source": [
    "button = br.find_element(By.XPATH, \"//input[@id='edit-submit']\")"
   ]
  },
  {
   "cell_type": "markdown",
   "metadata": {},
   "source": [
    "Но вариантов поиска здесь много! Посмотрим на код для кнопки:\n",
    "\n",
    "    <input type=\"submit\" id=\"edit-submit\" name=\"op\" \n",
    "    value=\"Поиск\" class=\"form-submit art-button\">\n",
    "\n",
    "Мы могли бы осуществить поиск не только по `id`, но и по значению атрибутов `name`, `class` и `value`, причём как с XPATH, так и без него. Вот альтернативы (метод `get_attribute()` возвращает значение какого-нибудь атрибута, здесь мы просим «внешний» код HTML, то есть код всего элемента с кнопкой, просто чтобы проверить, что мы находим одно и то же):"
   ]
  },
  {
   "cell_type": "code",
   "execution_count": 23,
   "metadata": {},
   "outputs": [
    {
     "name": "stdout",
     "output_type": "stream",
     "text": [
      "<input type=\"submit\" id=\"edit-submit\" name=\"op\" value=\"Поиск\" class=\"form-submit art-button\">\n"
     ]
    }
   ],
   "source": [
    "button = br.find_element(By.NAME, \"op\")\n",
    "print(button.get_attribute(\"outerHTML\"))"
   ]
  },
  {
   "cell_type": "code",
   "execution_count": 24,
   "metadata": {},
   "outputs": [
    {
     "name": "stdout",
     "output_type": "stream",
     "text": [
      "<input type=\"submit\" id=\"edit-submit\" name=\"op\" value=\"Поиск\" class=\"form-submit art-button\">\n"
     ]
    }
   ],
   "source": [
    "# продолжение названия после пробела нужно убрать\n",
    "# по-хорошему в названии класса пробелов быть не должно\n",
    "# полностью поиск с form-submit art-button не получится\n",
    "\n",
    "button = br.find_element(By.CLASS_NAME, \"form-submit\") \n",
    "print(button.get_attribute(\"outerHTML\"))"
   ]
  },
  {
   "cell_type": "markdown",
   "metadata": {},
   "source": [
    "А вот для поиска по значению в атрибуте `value` в коллекции `By` специального метода нет! Вот для таких случаев, для случаев с менее типовыми атрибутами, пригодится XPATH:"
   ]
  },
  {
   "cell_type": "code",
   "execution_count": 25,
   "metadata": {},
   "outputs": [
    {
     "name": "stdout",
     "output_type": "stream",
     "text": [
      "<input type=\"submit\" id=\"edit-submit\" name=\"op\" value=\"Поиск\" class=\"form-submit art-button\">\n"
     ]
    }
   ],
   "source": [
    "button = br.find_element(By.XPATH, \"//input[@value='Поиск']\") \n",
    "print(button.get_attribute(\"outerHTML\"))"
   ]
  },
  {
   "cell_type": "markdown",
   "metadata": {},
   "source": [
    "Всё, кнопку точно нашли, кликаем!"
   ]
  },
  {
   "cell_type": "code",
   "execution_count": 26,
   "metadata": {},
   "outputs": [],
   "source": [
    "button.click()"
   ]
  },
  {
   "cell_type": "markdown",
   "metadata": {},
   "source": [
    "Перешли на страницу с результатами, давайте заберем ссылку на единственный результат по частичному тексту ссылки и кликнем на нее."
   ]
  },
  {
   "cell_type": "code",
   "execution_count": 27,
   "metadata": {},
   "outputs": [],
   "source": [
    "# внимание: тут почему-то new с маленькой буквы\n",
    "\n",
    "link = br.find_element(By.PARTIAL_LINK_TEXT, \"Happy new Year\")\n",
    "link.click()"
   ]
  },
  {
   "cell_type": "markdown",
   "metadata": {},
   "source": [
    "Ура! Чтобы скачать zip-файл с нотами, нужно кликнуть на соответствующую иконку. Давайте найдем её через XPATH и кликнем. Так как кликать нужно на картинку, а изображения обычно хранятся в тэгах `<img>`, найдём элемент с тэгом `<img>` и атрибутом `alt` равным `'Скачать ZIP'` (`alt` – альтернативный текст, который появляется на странице, если изображение вдруг не загрузится):"
   ]
  },
  {
   "cell_type": "code",
   "execution_count": 28,
   "metadata": {},
   "outputs": [],
   "source": [
    "zip_ = br.find_element(By.XPATH, \"//img[@alt='Скачать ZIP']\")\n",
    "zip_.click()"
   ]
  },
  {
   "cell_type": "markdown",
   "metadata": {},
   "source": [
    "Так как zip-архивы обычно просто скачиваются при кликании, архив должен сохраниться в папку с загрузками. С pdf-файлами всё немного сложнее. \n",
    "\n",
    "Найдём аналогичным образом ссылку на PDF:"
   ]
  },
  {
   "cell_type": "code",
   "execution_count": 29,
   "metadata": {},
   "outputs": [],
   "source": [
    "pdf_ = br.find_element(By.XPATH, \"//img[@alt='Скачать PDF']\")\n",
    "pdf_.click()"
   ]
  },
  {
   "cell_type": "markdown",
   "metadata": {},
   "source": [
    "В браузере открылся pdf-файл, но как его автоматически скачать, неясно. Давайте откроем браузер с дополнительными опциями, чтобы PDF скачивался сразу, а не просто открывался в браузере (в Selenium есть возможности имитировать нажатие правой клавиши мышки, но здесь это не поможет – это уже не обычная веб-страница)."
   ]
  },
  {
   "cell_type": "markdown",
   "metadata": {},
   "source": [
    "Вызываем опции Chrome, с которыми браузер открывается через Selenium по умолчанию:"
   ]
  },
  {
   "cell_type": "code",
   "execution_count": 30,
   "metadata": {},
   "outputs": [],
   "source": [
    "options = wd.ChromeOptions()"
   ]
  },
  {
   "cell_type": "markdown",
   "metadata": {},
   "source": [
    "Обновляем их – добавляем необходимые опции в виде словаря предпочтений `prefs`:\n",
    "    \n",
    "* `download.prompt_for_download : False`: выключаем всплывающие окна (`prompt`) с вопросами, хотим ли мы скачать файл;\n",
    "\n",
    "* `plugins.always_open_pdf_externally : True`: включаем открытие PDF внешне (равно скачиванию), а не в новой вкладке браузера;\n",
    "\n",
    "* `download.directory_upgrade : True`: включаем обновление папки загрузок, чтобы файл наверняка сохранился."
   ]
  },
  {
   "cell_type": "code",
   "execution_count": 31,
   "metadata": {},
   "outputs": [],
   "source": [
    "options.add_experimental_option('prefs', {\n",
    "    \"download.prompt_for_download\": False, \n",
    "    \"plugins.always_open_pdf_externally\": True,\n",
    "    \"download.directory_upgrade\": True\n",
    "})"
   ]
  },
  {
   "cell_type": "markdown",
   "metadata": {},
   "source": [
    "Открываем браузер с дополнением `options`:"
   ]
  },
  {
   "cell_type": "code",
   "execution_count": 32,
   "metadata": {},
   "outputs": [],
   "source": [
    "br = wd.Chrome(options = options)"
   ]
  },
  {
   "cell_type": "markdown",
   "metadata": {},
   "source": [
    "Осталось повторить все проделанные операции по скачиванию!"
   ]
  },
  {
   "cell_type": "code",
   "execution_count": 33,
   "metadata": {},
   "outputs": [],
   "source": [
    "br.get(\"https://ponotam.ru/\")"
   ]
  },
  {
   "cell_type": "code",
   "execution_count": 35,
   "metadata": {},
   "outputs": [],
   "source": [
    "search = br.find_element(By.XPATH, \"//input[@id='edit-search-block-form--2']\")\n",
    "search.send_keys(\"Happy New Year\")"
   ]
  },
  {
   "cell_type": "code",
   "execution_count": 36,
   "metadata": {},
   "outputs": [],
   "source": [
    "button = br.find_element(By.ID, \"edit-submit\")\n",
    "button.click()"
   ]
  },
  {
   "cell_type": "code",
   "execution_count": 37,
   "metadata": {},
   "outputs": [],
   "source": [
    "link = br.find_element(By.PARTIAL_LINK_TEXT, \"Happy new Year\")\n",
    "link.click()"
   ]
  },
  {
   "cell_type": "code",
   "execution_count": 38,
   "metadata": {},
   "outputs": [],
   "source": [
    "pdf = br.find_element(By.XPATH, \"//img[@alt='Скачать PDF']\")\n",
    "pdf.click()"
   ]
  }
 ],
 "metadata": {
  "kernelspec": {
   "display_name": "Python 3",
   "language": "python",
   "name": "python3"
  },
  "language_info": {
   "codemirror_mode": {
    "name": "ipython",
    "version": 3
   },
   "file_extension": ".py",
   "mimetype": "text/x-python",
   "name": "python",
   "nbconvert_exporter": "python",
   "pygments_lexer": "ipython3",
   "version": "3.7.4"
  }
 },
 "nbformat": 4,
 "nbformat_minor": 2
}
