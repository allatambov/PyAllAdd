{
 "cells": [
  {
   "cell_type": "markdown",
   "metadata": {},
   "source": [
    "# Работаем с картами: продолжение\n",
    "\n",
    "## Часть 1: загружаем и унифицируем данные"
   ]
  },
  {
   "cell_type": "code",
   "execution_count": null,
   "metadata": {},
   "outputs": [],
   "source": [
    "import geopandas\n",
    "import pandas as pd"
   ]
  },
  {
   "cell_type": "code",
   "execution_count": null,
   "metadata": {},
   "outputs": [],
   "source": [
    "kirov_geo = geopandas.read_file(\"Кировская область_Kirov Region.geojson\")\n",
    "kirov_geo.head()"
   ]
  },
  {
   "cell_type": "code",
   "execution_count": null,
   "metadata": {},
   "outputs": [],
   "source": [
    "# print(kirov_geo[\"district\"])"
   ]
  },
  {
   "cell_type": "code",
   "execution_count": null,
   "metadata": {},
   "outputs": [],
   "source": [
    "kirov_data = pd.read_excel(\"Kirov_elections.xlsx\")\n",
    "kirov_data.head()"
   ]
  },
  {
   "cell_type": "code",
   "execution_count": null,
   "metadata": {},
   "outputs": [],
   "source": [
    "# print(kirov_data.columns)"
   ]
  },
  {
   "cell_type": "code",
   "execution_count": null,
   "metadata": {},
   "outputs": [],
   "source": [
    "kirov_sm = kirov[[\"district\", \"tik\", \"uiknum\", \"vote_lat\", \"vote_lon\",\n",
    "       'Число недействительных избирательных бюллетеней',\n",
    "       'Число действительных избирательных бюллетеней',\n",
    "       '1. Политическая партия \"КОММУНИСТИЧЕСКАЯ ПАРТИЯ РОССИЙСКОЙ ФЕДЕРАЦИИ\"',\n",
    "       '2. Политическая партия \"Российская экологическая партия \"ЗЕЛЁНЫЕ\"',\n",
    "       '3. Политическая партия ЛДПР – Либерально-демократическая партия России',\n",
    "       '4. Политическая партия \"НОВЫЕ ЛЮДИ\"',\n",
    "       '5. Всероссийская политическая партия \"ЕДИНАЯ РОССИЯ\"',\n",
    "       '6. Партия СПРАВЕДЛИВАЯ РОССИЯ – ЗА ПРАВДУ',\n",
    "       '7. Политическая партия \"Российская объединенная демократическая партия \"ЯБЛОКО\"',\n",
    "       '8. Всероссийская политическая партия \"ПАРТИЯ РОСТА\"',\n",
    "       '9. Политическая партия РОССИЙСКАЯ ПАРТИЯ СВОБОДЫ И СПРАВЕДЛИВОСТИ',\n",
    "       '10. Политическая партия КОММУНИСТИЧЕСКАЯ ПАРТИЯ КОММУНИСТЫ РОССИИ',\n",
    "       '11. Политическая партия \"Гражданская Платформа\"',\n",
    "       '12. Политическая партия ЗЕЛЕНАЯ АЛЬТЕРНАТИВА',\n",
    "       '13. ВСЕРОССИЙСКАЯ ПОЛИТИЧЕСКАЯ ПАРТИЯ \"РОДИНА\"', \n",
    "       '14. ПАРТИЯ ПЕНСИОНЕРОВ']]"
   ]
  },
  {
   "cell_type": "code",
   "execution_count": null,
   "metadata": {},
   "outputs": [],
   "source": [
    "kirov_sm.columns = [\"district\", \"tik\", \"uiknum\", \"vote_lat\", \"vote_lon\", \n",
    "                   \"invalid\", \"valid\", \"КПРФ\", \"ЗЕЛЁНЫЕ\", \"ЛДПР\", \n",
    "                   \"НОВЫЕ ЛЮДИ\", \"ЕДИНАЯ РОССИЯ\", \"СПРАВЕДЛИВАЯ РОССИЯ\",\n",
    "                   \"ЯБЛОКО\", \"ПАРТИЯ РОСТА\", \"СВОБОДЫ И СПРАВЕДЛИВОСТИ\", \n",
    "                   \"КОММУНИСТЫ РОССИИ\", \"Гражданская Платформа\", \n",
    "                   \"ЗЕЛЕНАЯ АЛЬТЕРНАТИВА\", \"РОДИНА\", \"ПАРТИЯ ПЕНСИОНЕРОВ\"]"
   ]
  },
  {
   "cell_type": "code",
   "execution_count": null,
   "metadata": {},
   "outputs": [],
   "source": [
    "print(kirov_sm[\"tik\"].unique())"
   ]
  },
  {
   "cell_type": "code",
   "execution_count": null,
   "metadata": {},
   "outputs": [],
   "source": [
    "kirov_sm[\"district\"] = kirov_sm[\"tik\"].map({'Арбажская' : 'Арбажский район', \n",
    "                     'Богородская' : 'Богородский район', \n",
    "                     'Верхошижемская' : 'Верхошижемский район', \n",
    "                     'Вятскополянская' : 'Вятскополянский район',\n",
    "                     'Вятскополянская городская' : 'Поляны', \n",
    "                     'Кикнурская' : \"Кикнурский район\",\n",
    "                     'Кильмезская' : \"Кикнурский район\",\n",
    "                     'Киров, Ленинская 1' : \"Киров\", \n",
    "                     'Киров, Ленинская 2' : \"Киров\", \n",
    "                     'Киров, Нововятская' : \"Киров\", \n",
    "                     'Кирово-Чепецкая' : \"Кирово-Чепецкий район\",\n",
    "                     'Кирово-Чепецкая городская' : \"Кирово-Чепецк\",\n",
    "                     'Куменская' : \"Куменский район\",\n",
    "                     'Лебяжская' : \"Лебяжский район\",\n",
    "                     'Малмыжская' : \"Малмыжский район\",\n",
    "                     'Немская' : \"Немский район\",\n",
    "                     'Нолинская' : \"Нолинский район\",\n",
    "                     'Пижанская' : \"Пижанский район\",\n",
    "                     'Санчурская' : \"Санчурский район\",\n",
    "                     'Советская' : \"Советский район\",\n",
    "                     'Сунская' : \"Сунский район\",\n",
    "                     'Тужинская' : \"Тужинский район\",\n",
    "                     'Унинская' : \"Унинский район\",\n",
    "                     'Уржумская' : \"Уржумский район\",\n",
    "                     'Яранская' : \"Яранский район\",\n",
    "                     'Афанасьевская' : \"Афанасьевский район\",\n",
    "                     'Белохолуницкая' : \"Белохолуницкий район\",\n",
    "                     'Верхнекамская' : \"Верхнекамский район\",\n",
    "                     'Даровская' : \"Даровской район\",\n",
    "                     'ЗАТО Первомайский' : \"ЗАТО Первомайский\",\n",
    "                     'Зуевская' : \"Зуевский район\",\n",
    "                     'Киров, Октябрьская 1' : \"Киров\",\n",
    "                     'Киров, Октябрьская 2' : \"Киров\",\n",
    "                     'Киров, Первомайская' : \"Киров\",\n",
    "                     'Котельничская' : \"Котельничский район\",\n",
    "                     'Котельничская городская' : \"Котельнич\",\n",
    "                     'Лузская' : \"Лузский район\",\n",
    "                     'Мурашинская' : \"Мурашинский район\",\n",
    "                     'Нагорская' : \"Нагорский район\",\n",
    "                     'Омутнинская' : \"Омутнинский район\",\n",
    "                     'Опаpинская' : \"Опаринский район\",\n",
    "                     'Оричевская' : \"Оричевский район\",\n",
    "                     'Орловская' : \"Орловский район\",\n",
    "                     'Подосиновская' : \"Подосиновский район\",\n",
    "                     'Свечинская': \"Свечинский район\",\n",
    "                     'Слободская' : \"Слободской район\",\n",
    "                     'Слободская городская' : \"городской округ Слободской\",\n",
    "                     'Фаленская' : \"Фаленский район\",\n",
    "                     'Шабалинская' : \"Шабалинский район\",\n",
    "                     'Юрьянская' : \"Юрьянский район\"})"
   ]
  },
  {
   "cell_type": "code",
   "execution_count": null,
   "metadata": {},
   "outputs": [],
   "source": [
    "kirov_sm.head()"
   ]
  },
  {
   "cell_type": "code",
   "execution_count": null,
   "metadata": {},
   "outputs": [],
   "source": [
    "kirov_sm[\"turnout\"] = kirov_sm[\"valid\"] + kirov_sm[\"invalid\"]"
   ]
  },
  {
   "cell_type": "code",
   "execution_count": null,
   "metadata": {},
   "outputs": [],
   "source": [
    "data = kirov_sm.groupby(\"district\")[[\"turnout\", \"КПРФ\", \"ЗЕЛЁНЫЕ\", \"ЛДПР\", \n",
    "                   \"НОВЫЕ ЛЮДИ\", \"ЕДИНАЯ РОССИЯ\", \"СПРАВЕДЛИВАЯ РОССИЯ\",\n",
    "                   \"ЯБЛОКО\", \"ПАРТИЯ РОСТА\", \"СВОБОДЫ И СПРАВЕДЛИВОСТИ\", \n",
    "                   \"КОММУНИСТЫ РОССИИ\", \"Гражданская Платформа\", \n",
    "                   \"ЗЕЛЕНАЯ АЛЬТЕРНАТИВА\", \"РОДИНА\", \"ПАРТИЯ ПЕНСИОНЕРОВ\"]].sum()"
   ]
  },
  {
   "cell_type": "code",
   "execution_count": null,
   "metadata": {},
   "outputs": [],
   "source": [
    "def get_perc(x):\n",
    "    return x / data[\"turnout\"] * 100"
   ]
  },
  {
   "cell_type": "code",
   "execution_count": null,
   "metadata": {},
   "outputs": [],
   "source": [
    "results = data.loc[:, \"КПРФ\" : \"ПАРТИЯ ПЕНСИОНЕРОВ\"].apply(get_perc)\n",
    "results.head()"
   ]
  },
  {
   "cell_type": "code",
   "execution_count": null,
   "metadata": {},
   "outputs": [],
   "source": [
    "final = kirov_geo.merge(results, on = \"district\")"
   ]
  },
  {
   "cell_type": "markdown",
   "metadata": {},
   "source": [
    "## Часть 2: строим карты с градиентной заливкой"
   ]
  },
  {
   "cell_type": "code",
   "execution_count": null,
   "metadata": {},
   "outputs": [],
   "source": [
    "final.plot(\"КПРФ\", figsize = (16, 9), cmap = \"Reds\", legend = True);"
   ]
  },
  {
   "cell_type": "code",
   "execution_count": null,
   "metadata": {},
   "outputs": [],
   "source": [
    "final.plot(\"ЕДИНАЯ РОССИЯ\", figsize = (16, 9), cmap = \"Blues\", legend = True);"
   ]
  },
  {
   "cell_type": "code",
   "execution_count": null,
   "metadata": {},
   "outputs": [],
   "source": [
    "final.plot(\"ЗЕЛЁНЫЕ\", figsize = (16, 9), cmap = \"Greens\", legend = True);"
   ]
  },
  {
   "cell_type": "code",
   "execution_count": null,
   "metadata": {},
   "outputs": [],
   "source": [
    "from matplotlib import pyplot as plt"
   ]
  },
  {
   "cell_type": "code",
   "execution_count": null,
   "metadata": {},
   "outputs": [],
   "source": [
    "fig, ax = plt.subplots(figsize = (16, 9), dpi = 300)\n",
    "\n",
    "final.plot(ax = ax, column = \"КПРФ\", cmap = \"Reds\", legend = True);\n",
    "\n",
    "ax.set_title(\"Выборы в Государственную Думу 8 созыва: КПРФ (% голосов)\", \n",
    "            loc = \"left\", \n",
    "            fontsize = 16, \n",
    "            fontweight = \"bold\");\n",
    "\n",
    "fig.savefig(\"kprf.png\")"
   ]
  },
  {
   "cell_type": "code",
   "execution_count": null,
   "metadata": {},
   "outputs": [],
   "source": [
    "final.crs"
   ]
  },
  {
   "cell_type": "code",
   "execution_count": null,
   "metadata": {},
   "outputs": [],
   "source": [
    "# link to all codes: https://spatialreference.org/ref/epsg/?page=10\n",
    "# EPSG:3395\n",
    "\n",
    "final = final.to_crs(\"EPSG:3395\")"
   ]
  },
  {
   "cell_type": "code",
   "execution_count": null,
   "metadata": {},
   "outputs": [],
   "source": [
    "# delete xticks and yticks\n",
    "\n",
    "fig, ax = plt.subplots(figsize = (16, 9), dpi = 300)\n",
    "\n",
    "final.plot(ax = ax, \n",
    "           column = \"КПРФ\", \n",
    "           cmap = \"Reds\", \n",
    "           legend = True);\n",
    "\n",
    "ax.set_title(\"Выборы в Государственную Думу 8 созыва: КПРФ (% голосов)\", \n",
    "            loc = \"left\", \n",
    "            fontsize = 16, \n",
    "            fontweight = \"bold\");\n",
    "\n",
    "ax.set_axis_off();\n",
    "\n",
    "fig.savefig(\"kprf.png\")"
   ]
  },
  {
   "cell_type": "markdown",
   "metadata": {},
   "source": [
    "## Часть 3: кластеризуем районы и создаем свою заливку по группам"
   ]
  },
  {
   "cell_type": "code",
   "execution_count": null,
   "metadata": {},
   "outputs": [],
   "source": [
    "from scipy.cluster.hierarchy import linkage, dendrogram, cut_tree"
   ]
  },
  {
   "cell_type": "code",
   "execution_count": null,
   "metadata": {},
   "outputs": [],
   "source": [
    "### TOGETHER"
   ]
  },
  {
   "cell_type": "markdown",
   "metadata": {},
   "source": [
    "## Часть 4: совмещаем разные слои: наносим УИКи"
   ]
  },
  {
   "cell_type": "code",
   "execution_count": null,
   "metadata": {},
   "outputs": [],
   "source": [
    "kirov_city_geo = kirov_geo[kirov_geo[\"district\"] == \"Киров\"]\n",
    "kirov_city_geo.head()"
   ]
  },
  {
   "cell_type": "code",
   "execution_count": null,
   "metadata": {},
   "outputs": [],
   "source": [
    "kirov_city = kirov_sm[kirov_sm[\"district\"] == \"Киров\"]\n",
    "kirov_city.head()"
   ]
  },
  {
   "cell_type": "code",
   "execution_count": null,
   "metadata": {},
   "outputs": [],
   "source": [
    "kirov_uiks = kirov_city.loc[:, \"district\": \"vote_lon\"]\n",
    "kirov_uiks.head()"
   ]
  },
  {
   "cell_type": "code",
   "execution_count": null,
   "metadata": {},
   "outputs": [],
   "source": [
    "kirov_uiks = geopandas.GeoDataFrame(\n",
    "    kirov_uiks,\n",
    "    geometry = geopandas.points_from_xy(kirov_uiks[\"vote_lon\"], \n",
    "                                        kirov_uiks[\"vote_lat\"]))"
   ]
  },
  {
   "cell_type": "code",
   "execution_count": null,
   "metadata": {},
   "outputs": [],
   "source": [
    "kirov_uiks.plot(color = 'red', markersize = 5);"
   ]
  },
  {
   "cell_type": "code",
   "execution_count": null,
   "metadata": {},
   "outputs": [],
   "source": [
    "base = kirov_city_geo.plot(figsize = (16, 9), color = 'white', edgecolor = 'black')\n",
    "kirov_uiks.plot(ax = base, color = 'red', markersize = 5);"
   ]
  },
  {
   "cell_type": "code",
   "execution_count": null,
   "metadata": {},
   "outputs": [],
   "source": [
    "kirov_perc = kirov_city.loc[:, \"КПРФ\":\"ПАРТИЯ ПЕНСИОНЕРОВ\"].apply(lambda x: x / kirov_city[\"turnout\"] * 100)"
   ]
  },
  {
   "cell_type": "code",
   "execution_count": null,
   "metadata": {},
   "outputs": [],
   "source": [
    "kirov_perc[\"winner\"] = kirov_perc.loc[:, \"КПРФ\":\"ПАРТИЯ ПЕНСИОНЕРОВ\"].idxmax(axis=1)"
   ]
  },
  {
   "cell_type": "code",
   "execution_count": null,
   "metadata": {},
   "outputs": [],
   "source": [
    "kirov_perc[\"winner\"].value_counts()"
   ]
  },
  {
   "cell_type": "code",
   "execution_count": null,
   "metadata": {},
   "outputs": [],
   "source": [
    "kirov_uiks[\"winner\"] = kirov_perc[\"winner\"].replace({\"ЕДИНАЯ РОССИЯ\" : \"blue\", \n",
    "                          \"КПРФ\" : \"red\", \n",
    "                          \"СПРАВЕДЛИВАЯ РОССИЯ\" : \"green\", \n",
    "                          \"ЛДПР\" : \"orange\"})"
   ]
  },
  {
   "cell_type": "code",
   "execution_count": null,
   "metadata": {},
   "outputs": [],
   "source": [
    "kirov_uiks[\"winner\"].value_counts()"
   ]
  },
  {
   "cell_type": "code",
   "execution_count": null,
   "metadata": {},
   "outputs": [],
   "source": [
    "base = kirov_city_geo.plot(figsize = (16, 9), color = 'white', edgecolor = 'black')\n",
    "kirov_uiks.plot(ax = base, c = kirov_uiks['winner'], markersize = 5);"
   ]
  }
 ],
 "metadata": {
  "kernelspec": {
   "display_name": "Python 3",
   "language": "python",
   "name": "python3"
  },
  "language_info": {
   "codemirror_mode": {
    "name": "ipython",
    "version": 3
   },
   "file_extension": ".py",
   "mimetype": "text/x-python",
   "name": "python",
   "nbconvert_exporter": "python",
   "pygments_lexer": "ipython3",
   "version": "3.7.4"
  }
 },
 "nbformat": 4,
 "nbformat_minor": 2
}
